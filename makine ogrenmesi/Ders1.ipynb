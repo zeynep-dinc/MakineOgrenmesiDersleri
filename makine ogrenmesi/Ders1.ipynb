{
 "metadata": {
  "language_info": {
   "codemirror_mode": {
    "name": "ipython",
    "version": 3
   },
   "file_extension": ".py",
   "mimetype": "text/x-python",
   "name": "python",
   "nbconvert_exporter": "python",
   "pygments_lexer": "ipython3",
   "version": "3.9.1-final"
  },
  "orig_nbformat": 2,
  "kernelspec": {
   "name": "python3",
   "display_name": "Python 3.9.1 64-bit",
   "metadata": {
    "interpreter": {
     "hash": "4ddc10d40a42868321674e1571a42df0c7fd233a2687598209a7e6ea2cca97f8"
    }
   }
  }
 },
 "nbformat": 4,
 "nbformat_minor": 2,
 "cells": [
  {
   "cell_type": "code",
   "execution_count": 8,
   "metadata": {},
   "outputs": [],
   "source": [
    "import pandas as pd\n",
    "import numpy as np\n",
    "import matplotlib.pyplot as plt\n",
    "\n",
    "from sklearn import preprocessing  #veri ön işleme kütüphanesi\n",
    "from sklearn.impute import SimpleImputer"
   ]
  },
  {
   "cell_type": "code",
   "execution_count": 13,
   "metadata": {},
   "outputs": [
    {
     "output_type": "execute_result",
     "data": {
      "text/plain": [
       "   ulke  boy  kilo   yas cinsiyet\n",
       "0    tr  130    30  10.0        e\n",
       "1    tr  125    36  11.0        e\n",
       "2    tr  135    34  10.0        k\n",
       "3    tr  133    30   9.0        k\n",
       "4    tr  129    38  12.0        e\n",
       "5    tr  180    90  30.0        e\n",
       "6    tr  190    80  25.0        e\n",
       "7    tr  175    90  35.0        e\n",
       "8    tr  177    60  22.0        k\n",
       "9    us  185   105  33.0        e\n",
       "10   us  165    55  27.0        k\n",
       "11   us  155    50  44.0        k\n",
       "12   us  160    58   NaN        k\n",
       "13   us  162    59  41.0        k\n",
       "14   us  167    62  55.0        k\n",
       "15   fr  174    70  47.0        e\n",
       "16   fr  193    90   NaN        e\n",
       "17   fr  187    80  27.0        e\n",
       "18   fr  183    88  28.0        e\n",
       "19   fr  159    40  29.0        k\n",
       "20   fr  164    66  32.0        k\n",
       "21   fr  166    56  42.0        k"
      ],
      "text/html": "<div>\n<style scoped>\n    .dataframe tbody tr th:only-of-type {\n        vertical-align: middle;\n    }\n\n    .dataframe tbody tr th {\n        vertical-align: top;\n    }\n\n    .dataframe thead th {\n        text-align: right;\n    }\n</style>\n<table border=\"1\" class=\"dataframe\">\n  <thead>\n    <tr style=\"text-align: right;\">\n      <th></th>\n      <th>ulke</th>\n      <th>boy</th>\n      <th>kilo</th>\n      <th>yas</th>\n      <th>cinsiyet</th>\n    </tr>\n  </thead>\n  <tbody>\n    <tr>\n      <th>0</th>\n      <td>tr</td>\n      <td>130</td>\n      <td>30</td>\n      <td>10.0</td>\n      <td>e</td>\n    </tr>\n    <tr>\n      <th>1</th>\n      <td>tr</td>\n      <td>125</td>\n      <td>36</td>\n      <td>11.0</td>\n      <td>e</td>\n    </tr>\n    <tr>\n      <th>2</th>\n      <td>tr</td>\n      <td>135</td>\n      <td>34</td>\n      <td>10.0</td>\n      <td>k</td>\n    </tr>\n    <tr>\n      <th>3</th>\n      <td>tr</td>\n      <td>133</td>\n      <td>30</td>\n      <td>9.0</td>\n      <td>k</td>\n    </tr>\n    <tr>\n      <th>4</th>\n      <td>tr</td>\n      <td>129</td>\n      <td>38</td>\n      <td>12.0</td>\n      <td>e</td>\n    </tr>\n    <tr>\n      <th>5</th>\n      <td>tr</td>\n      <td>180</td>\n      <td>90</td>\n      <td>30.0</td>\n      <td>e</td>\n    </tr>\n    <tr>\n      <th>6</th>\n      <td>tr</td>\n      <td>190</td>\n      <td>80</td>\n      <td>25.0</td>\n      <td>e</td>\n    </tr>\n    <tr>\n      <th>7</th>\n      <td>tr</td>\n      <td>175</td>\n      <td>90</td>\n      <td>35.0</td>\n      <td>e</td>\n    </tr>\n    <tr>\n      <th>8</th>\n      <td>tr</td>\n      <td>177</td>\n      <td>60</td>\n      <td>22.0</td>\n      <td>k</td>\n    </tr>\n    <tr>\n      <th>9</th>\n      <td>us</td>\n      <td>185</td>\n      <td>105</td>\n      <td>33.0</td>\n      <td>e</td>\n    </tr>\n    <tr>\n      <th>10</th>\n      <td>us</td>\n      <td>165</td>\n      <td>55</td>\n      <td>27.0</td>\n      <td>k</td>\n    </tr>\n    <tr>\n      <th>11</th>\n      <td>us</td>\n      <td>155</td>\n      <td>50</td>\n      <td>44.0</td>\n      <td>k</td>\n    </tr>\n    <tr>\n      <th>12</th>\n      <td>us</td>\n      <td>160</td>\n      <td>58</td>\n      <td>NaN</td>\n      <td>k</td>\n    </tr>\n    <tr>\n      <th>13</th>\n      <td>us</td>\n      <td>162</td>\n      <td>59</td>\n      <td>41.0</td>\n      <td>k</td>\n    </tr>\n    <tr>\n      <th>14</th>\n      <td>us</td>\n      <td>167</td>\n      <td>62</td>\n      <td>55.0</td>\n      <td>k</td>\n    </tr>\n    <tr>\n      <th>15</th>\n      <td>fr</td>\n      <td>174</td>\n      <td>70</td>\n      <td>47.0</td>\n      <td>e</td>\n    </tr>\n    <tr>\n      <th>16</th>\n      <td>fr</td>\n      <td>193</td>\n      <td>90</td>\n      <td>NaN</td>\n      <td>e</td>\n    </tr>\n    <tr>\n      <th>17</th>\n      <td>fr</td>\n      <td>187</td>\n      <td>80</td>\n      <td>27.0</td>\n      <td>e</td>\n    </tr>\n    <tr>\n      <th>18</th>\n      <td>fr</td>\n      <td>183</td>\n      <td>88</td>\n      <td>28.0</td>\n      <td>e</td>\n    </tr>\n    <tr>\n      <th>19</th>\n      <td>fr</td>\n      <td>159</td>\n      <td>40</td>\n      <td>29.0</td>\n      <td>k</td>\n    </tr>\n    <tr>\n      <th>20</th>\n      <td>fr</td>\n      <td>164</td>\n      <td>66</td>\n      <td>32.0</td>\n      <td>k</td>\n    </tr>\n    <tr>\n      <th>21</th>\n      <td>fr</td>\n      <td>166</td>\n      <td>56</td>\n      <td>42.0</td>\n      <td>k</td>\n    </tr>\n  </tbody>\n</table>\n</div>"
     },
     "metadata": {},
     "execution_count": 13
    }
   ],
   "source": [
    "dataset=pd.read_csv(\".\\\\Veriler\\\\eksikveriler.csv\")\n",
    "dataset=pd.DataFrame(dataset)\n",
    "dataset"
   ]
  },
  {
   "cell_type": "code",
   "execution_count": 15,
   "metadata": {},
   "outputs": [
    {
     "output_type": "execute_result",
     "data": {
      "text/plain": [
       "array([[130.,  30.,  10.],\n",
       "       [125.,  36.,  11.],\n",
       "       [135.,  34.,  10.],\n",
       "       [133.,  30.,   9.],\n",
       "       [129.,  38.,  12.],\n",
       "       [180.,  90.,  30.],\n",
       "       [190.,  80.,  25.],\n",
       "       [175.,  90.,  35.],\n",
       "       [177.,  60.,  22.],\n",
       "       [185., 105.,  33.],\n",
       "       [165.,  55.,  27.],\n",
       "       [155.,  50.,  44.],\n",
       "       [160.,  58.,  nan],\n",
       "       [162.,  59.,  41.],\n",
       "       [167.,  62.,  55.],\n",
       "       [174.,  70.,  47.],\n",
       "       [193.,  90.,  nan],\n",
       "       [187.,  80.,  27.],\n",
       "       [183.,  88.,  28.],\n",
       "       [159.,  40.,  29.],\n",
       "       [164.,  66.,  32.],\n",
       "       [166.,  56.,  42.]])"
      ]
     },
     "metadata": {},
     "execution_count": 15
    }
   ],
   "source": [
    "imputer=SimpleImputer(missing_values=np.nan,strategy=\"mean\")            #hatalı değer= nan strateji ortalama değeri gir\n",
    "Yas=dataset.iloc[:,1:4].values\n",
    "Yas"
   ]
  },
  {
   "cell_type": "code",
   "execution_count": 16,
   "metadata": {},
   "outputs": [
    {
     "output_type": "execute_result",
     "data": {
      "text/plain": [
       "array([[130.  ,  30.  ,  10.  ],\n",
       "       [125.  ,  36.  ,  11.  ],\n",
       "       [135.  ,  34.  ,  10.  ],\n",
       "       [133.  ,  30.  ,   9.  ],\n",
       "       [129.  ,  38.  ,  12.  ],\n",
       "       [180.  ,  90.  ,  30.  ],\n",
       "       [190.  ,  80.  ,  25.  ],\n",
       "       [175.  ,  90.  ,  35.  ],\n",
       "       [177.  ,  60.  ,  22.  ],\n",
       "       [185.  , 105.  ,  33.  ],\n",
       "       [165.  ,  55.  ,  27.  ],\n",
       "       [155.  ,  50.  ,  44.  ],\n",
       "       [160.  ,  58.  ,  28.45],\n",
       "       [162.  ,  59.  ,  41.  ],\n",
       "       [167.  ,  62.  ,  55.  ],\n",
       "       [174.  ,  70.  ,  47.  ],\n",
       "       [193.  ,  90.  ,  28.45],\n",
       "       [187.  ,  80.  ,  27.  ],\n",
       "       [183.  ,  88.  ,  28.  ],\n",
       "       [159.  ,  40.  ,  29.  ],\n",
       "       [164.  ,  66.  ,  32.  ],\n",
       "       [166.  ,  56.  ,  42.  ]])"
      ]
     },
     "metadata": {},
     "execution_count": 16
    }
   ],
   "source": [
    "#Eksik Verilerin yerine ortalama değerlerini atama\n",
    "imputer=imputer.fit(Yas[:,1:4])\n",
    "Yas[:,1:4]=imputer.transform(Yas[:,1:4])\n",
    "Yas"
   ]
  },
  {
   "cell_type": "code",
   "execution_count": 19,
   "metadata": {},
   "outputs": [
    {
     "output_type": "execute_result",
     "data": {
      "text/plain": [
       "array([[0., 1., 0.],\n",
       "       [0., 1., 0.],\n",
       "       [0., 1., 0.],\n",
       "       [0., 1., 0.],\n",
       "       [0., 1., 0.],\n",
       "       [0., 1., 0.],\n",
       "       [0., 1., 0.],\n",
       "       [0., 1., 0.],\n",
       "       [0., 1., 0.],\n",
       "       [0., 0., 1.],\n",
       "       [0., 0., 1.],\n",
       "       [0., 0., 1.],\n",
       "       [0., 0., 1.],\n",
       "       [0., 0., 1.],\n",
       "       [0., 0., 1.],\n",
       "       [1., 0., 0.],\n",
       "       [1., 0., 0.],\n",
       "       [1., 0., 0.],\n",
       "       [1., 0., 0.],\n",
       "       [1., 0., 0.],\n",
       "       [1., 0., 0.],\n",
       "       [1., 0., 0.]])"
      ]
     },
     "metadata": {},
     "execution_count": 19
    }
   ],
   "source": [
    "#Burada ülkeler kategorik ve nominal değerlerdir. Bu sebeple herhangi bir sıralama yapılamıyor. bunun için ülkeleri ikilik sistemle kodluyoruz.\n",
    "\n",
    "ulke=dataset.iloc[:,0:1].values\n",
    "le=preprocessing.LabelEncoder()\n",
    "ulke[:,0]=le.fit_transform(dataset.iloc[:,0])\n",
    "ohe=preprocessing.OneHotEncoder()\n",
    "ulke=ohe.fit_transform(ulke).toarray()\n",
    "ulke"
   ]
  },
  {
   "cell_type": "code",
   "execution_count": 18,
   "metadata": {},
   "outputs": [
    {
     "output_type": "execute_result",
     "data": {
      "text/plain": [
       "     fr   tr   us\n",
       "0   0.0  1.0  0.0\n",
       "1   0.0  1.0  0.0\n",
       "2   0.0  1.0  0.0\n",
       "3   0.0  1.0  0.0\n",
       "4   0.0  1.0  0.0\n",
       "5   0.0  1.0  0.0\n",
       "6   0.0  1.0  0.0\n",
       "7   0.0  1.0  0.0\n",
       "8   0.0  1.0  0.0\n",
       "9   0.0  0.0  1.0\n",
       "10  0.0  0.0  1.0\n",
       "11  0.0  0.0  1.0\n",
       "12  0.0  0.0  1.0\n",
       "13  0.0  0.0  1.0\n",
       "14  0.0  0.0  1.0\n",
       "15  1.0  0.0  0.0\n",
       "16  1.0  0.0  0.0\n",
       "17  1.0  0.0  0.0\n",
       "18  1.0  0.0  0.0\n",
       "19  1.0  0.0  0.0\n",
       "20  1.0  0.0  0.0\n",
       "21  1.0  0.0  0.0"
      ],
      "text/html": "<div>\n<style scoped>\n    .dataframe tbody tr th:only-of-type {\n        vertical-align: middle;\n    }\n\n    .dataframe tbody tr th {\n        vertical-align: top;\n    }\n\n    .dataframe thead th {\n        text-align: right;\n    }\n</style>\n<table border=\"1\" class=\"dataframe\">\n  <thead>\n    <tr style=\"text-align: right;\">\n      <th></th>\n      <th>fr</th>\n      <th>tr</th>\n      <th>us</th>\n    </tr>\n  </thead>\n  <tbody>\n    <tr>\n      <th>0</th>\n      <td>0.0</td>\n      <td>1.0</td>\n      <td>0.0</td>\n    </tr>\n    <tr>\n      <th>1</th>\n      <td>0.0</td>\n      <td>1.0</td>\n      <td>0.0</td>\n    </tr>\n    <tr>\n      <th>2</th>\n      <td>0.0</td>\n      <td>1.0</td>\n      <td>0.0</td>\n    </tr>\n    <tr>\n      <th>3</th>\n      <td>0.0</td>\n      <td>1.0</td>\n      <td>0.0</td>\n    </tr>\n    <tr>\n      <th>4</th>\n      <td>0.0</td>\n      <td>1.0</td>\n      <td>0.0</td>\n    </tr>\n    <tr>\n      <th>5</th>\n      <td>0.0</td>\n      <td>1.0</td>\n      <td>0.0</td>\n    </tr>\n    <tr>\n      <th>6</th>\n      <td>0.0</td>\n      <td>1.0</td>\n      <td>0.0</td>\n    </tr>\n    <tr>\n      <th>7</th>\n      <td>0.0</td>\n      <td>1.0</td>\n      <td>0.0</td>\n    </tr>\n    <tr>\n      <th>8</th>\n      <td>0.0</td>\n      <td>1.0</td>\n      <td>0.0</td>\n    </tr>\n    <tr>\n      <th>9</th>\n      <td>0.0</td>\n      <td>0.0</td>\n      <td>1.0</td>\n    </tr>\n    <tr>\n      <th>10</th>\n      <td>0.0</td>\n      <td>0.0</td>\n      <td>1.0</td>\n    </tr>\n    <tr>\n      <th>11</th>\n      <td>0.0</td>\n      <td>0.0</td>\n      <td>1.0</td>\n    </tr>\n    <tr>\n      <th>12</th>\n      <td>0.0</td>\n      <td>0.0</td>\n      <td>1.0</td>\n    </tr>\n    <tr>\n      <th>13</th>\n      <td>0.0</td>\n      <td>0.0</td>\n      <td>1.0</td>\n    </tr>\n    <tr>\n      <th>14</th>\n      <td>0.0</td>\n      <td>0.0</td>\n      <td>1.0</td>\n    </tr>\n    <tr>\n      <th>15</th>\n      <td>1.0</td>\n      <td>0.0</td>\n      <td>0.0</td>\n    </tr>\n    <tr>\n      <th>16</th>\n      <td>1.0</td>\n      <td>0.0</td>\n      <td>0.0</td>\n    </tr>\n    <tr>\n      <th>17</th>\n      <td>1.0</td>\n      <td>0.0</td>\n      <td>0.0</td>\n    </tr>\n    <tr>\n      <th>18</th>\n      <td>1.0</td>\n      <td>0.0</td>\n      <td>0.0</td>\n    </tr>\n    <tr>\n      <th>19</th>\n      <td>1.0</td>\n      <td>0.0</td>\n      <td>0.0</td>\n    </tr>\n    <tr>\n      <th>20</th>\n      <td>1.0</td>\n      <td>0.0</td>\n      <td>0.0</td>\n    </tr>\n    <tr>\n      <th>21</th>\n      <td>1.0</td>\n      <td>0.0</td>\n      <td>0.0</td>\n    </tr>\n  </tbody>\n</table>\n</div>"
     },
     "metadata": {},
     "execution_count": 18
    }
   ],
   "source": [
    "sonuc=pd.DataFrame(data=ulke,index=range(22), columns=[\"fr\",\"tr\",\"us\"])\n",
    "sonuc"
   ]
  },
  {
   "cell_type": "code",
   "execution_count": 21,
   "metadata": {},
   "outputs": [
    {
     "output_type": "execute_result",
     "data": {
      "text/plain": [
       "      boy   kilo    yas\n",
       "0   130.0   30.0  10.00\n",
       "1   125.0   36.0  11.00\n",
       "2   135.0   34.0  10.00\n",
       "3   133.0   30.0   9.00\n",
       "4   129.0   38.0  12.00\n",
       "5   180.0   90.0  30.00\n",
       "6   190.0   80.0  25.00\n",
       "7   175.0   90.0  35.00\n",
       "8   177.0   60.0  22.00\n",
       "9   185.0  105.0  33.00\n",
       "10  165.0   55.0  27.00\n",
       "11  155.0   50.0  44.00\n",
       "12  160.0   58.0  28.45\n",
       "13  162.0   59.0  41.00\n",
       "14  167.0   62.0  55.00\n",
       "15  174.0   70.0  47.00\n",
       "16  193.0   90.0  28.45\n",
       "17  187.0   80.0  27.00\n",
       "18  183.0   88.0  28.00\n",
       "19  159.0   40.0  29.00\n",
       "20  164.0   66.0  32.00\n",
       "21  166.0   56.0  42.00"
      ],
      "text/html": "<div>\n<style scoped>\n    .dataframe tbody tr th:only-of-type {\n        vertical-align: middle;\n    }\n\n    .dataframe tbody tr th {\n        vertical-align: top;\n    }\n\n    .dataframe thead th {\n        text-align: right;\n    }\n</style>\n<table border=\"1\" class=\"dataframe\">\n  <thead>\n    <tr style=\"text-align: right;\">\n      <th></th>\n      <th>boy</th>\n      <th>kilo</th>\n      <th>yas</th>\n    </tr>\n  </thead>\n  <tbody>\n    <tr>\n      <th>0</th>\n      <td>130.0</td>\n      <td>30.0</td>\n      <td>10.00</td>\n    </tr>\n    <tr>\n      <th>1</th>\n      <td>125.0</td>\n      <td>36.0</td>\n      <td>11.00</td>\n    </tr>\n    <tr>\n      <th>2</th>\n      <td>135.0</td>\n      <td>34.0</td>\n      <td>10.00</td>\n    </tr>\n    <tr>\n      <th>3</th>\n      <td>133.0</td>\n      <td>30.0</td>\n      <td>9.00</td>\n    </tr>\n    <tr>\n      <th>4</th>\n      <td>129.0</td>\n      <td>38.0</td>\n      <td>12.00</td>\n    </tr>\n    <tr>\n      <th>5</th>\n      <td>180.0</td>\n      <td>90.0</td>\n      <td>30.00</td>\n    </tr>\n    <tr>\n      <th>6</th>\n      <td>190.0</td>\n      <td>80.0</td>\n      <td>25.00</td>\n    </tr>\n    <tr>\n      <th>7</th>\n      <td>175.0</td>\n      <td>90.0</td>\n      <td>35.00</td>\n    </tr>\n    <tr>\n      <th>8</th>\n      <td>177.0</td>\n      <td>60.0</td>\n      <td>22.00</td>\n    </tr>\n    <tr>\n      <th>9</th>\n      <td>185.0</td>\n      <td>105.0</td>\n      <td>33.00</td>\n    </tr>\n    <tr>\n      <th>10</th>\n      <td>165.0</td>\n      <td>55.0</td>\n      <td>27.00</td>\n    </tr>\n    <tr>\n      <th>11</th>\n      <td>155.0</td>\n      <td>50.0</td>\n      <td>44.00</td>\n    </tr>\n    <tr>\n      <th>12</th>\n      <td>160.0</td>\n      <td>58.0</td>\n      <td>28.45</td>\n    </tr>\n    <tr>\n      <th>13</th>\n      <td>162.0</td>\n      <td>59.0</td>\n      <td>41.00</td>\n    </tr>\n    <tr>\n      <th>14</th>\n      <td>167.0</td>\n      <td>62.0</td>\n      <td>55.00</td>\n    </tr>\n    <tr>\n      <th>15</th>\n      <td>174.0</td>\n      <td>70.0</td>\n      <td>47.00</td>\n    </tr>\n    <tr>\n      <th>16</th>\n      <td>193.0</td>\n      <td>90.0</td>\n      <td>28.45</td>\n    </tr>\n    <tr>\n      <th>17</th>\n      <td>187.0</td>\n      <td>80.0</td>\n      <td>27.00</td>\n    </tr>\n    <tr>\n      <th>18</th>\n      <td>183.0</td>\n      <td>88.0</td>\n      <td>28.00</td>\n    </tr>\n    <tr>\n      <th>19</th>\n      <td>159.0</td>\n      <td>40.0</td>\n      <td>29.00</td>\n    </tr>\n    <tr>\n      <th>20</th>\n      <td>164.0</td>\n      <td>66.0</td>\n      <td>32.00</td>\n    </tr>\n    <tr>\n      <th>21</th>\n      <td>166.0</td>\n      <td>56.0</td>\n      <td>42.00</td>\n    </tr>\n  </tbody>\n</table>\n</div>"
     },
     "metadata": {},
     "execution_count": 21
    }
   ],
   "source": [
    "sonuc2=pd.DataFrame(data=Yas,index=range(22),columns=[\"boy\",\"kilo\",\"yas\"])\n",
    "sonuc2"
   ]
  },
  {
   "cell_type": "code",
   "execution_count": 22,
   "metadata": {},
   "outputs": [
    {
     "output_type": "execute_result",
     "data": {
      "text/plain": [
       "array(['e', 'e', 'k', 'k', 'e', 'e', 'e', 'e', 'k', 'e', 'k', 'k', 'k',\n",
       "       'k', 'k', 'e', 'e', 'e', 'e', 'k', 'k', 'k'], dtype=object)"
      ]
     },
     "metadata": {},
     "execution_count": 22
    }
   ],
   "source": [
    "cinsiyet=dataset.iloc[:,-1].values\n",
    "cinsiyet"
   ]
  },
  {
   "cell_type": "code",
   "execution_count": 23,
   "metadata": {},
   "outputs": [
    {
     "output_type": "execute_result",
     "data": {
      "text/plain": [
       "   cinsiyet\n",
       "0         e\n",
       "1         e\n",
       "2         k\n",
       "3         k\n",
       "4         e\n",
       "5         e\n",
       "6         e\n",
       "7         e\n",
       "8         k\n",
       "9         e\n",
       "10        k\n",
       "11        k\n",
       "12        k\n",
       "13        k\n",
       "14        k\n",
       "15        e\n",
       "16        e\n",
       "17        e\n",
       "18        e\n",
       "19        k\n",
       "20        k\n",
       "21        k"
      ],
      "text/html": "<div>\n<style scoped>\n    .dataframe tbody tr th:only-of-type {\n        vertical-align: middle;\n    }\n\n    .dataframe tbody tr th {\n        vertical-align: top;\n    }\n\n    .dataframe thead th {\n        text-align: right;\n    }\n</style>\n<table border=\"1\" class=\"dataframe\">\n  <thead>\n    <tr style=\"text-align: right;\">\n      <th></th>\n      <th>cinsiyet</th>\n    </tr>\n  </thead>\n  <tbody>\n    <tr>\n      <th>0</th>\n      <td>e</td>\n    </tr>\n    <tr>\n      <th>1</th>\n      <td>e</td>\n    </tr>\n    <tr>\n      <th>2</th>\n      <td>k</td>\n    </tr>\n    <tr>\n      <th>3</th>\n      <td>k</td>\n    </tr>\n    <tr>\n      <th>4</th>\n      <td>e</td>\n    </tr>\n    <tr>\n      <th>5</th>\n      <td>e</td>\n    </tr>\n    <tr>\n      <th>6</th>\n      <td>e</td>\n    </tr>\n    <tr>\n      <th>7</th>\n      <td>e</td>\n    </tr>\n    <tr>\n      <th>8</th>\n      <td>k</td>\n    </tr>\n    <tr>\n      <th>9</th>\n      <td>e</td>\n    </tr>\n    <tr>\n      <th>10</th>\n      <td>k</td>\n    </tr>\n    <tr>\n      <th>11</th>\n      <td>k</td>\n    </tr>\n    <tr>\n      <th>12</th>\n      <td>k</td>\n    </tr>\n    <tr>\n      <th>13</th>\n      <td>k</td>\n    </tr>\n    <tr>\n      <th>14</th>\n      <td>k</td>\n    </tr>\n    <tr>\n      <th>15</th>\n      <td>e</td>\n    </tr>\n    <tr>\n      <th>16</th>\n      <td>e</td>\n    </tr>\n    <tr>\n      <th>17</th>\n      <td>e</td>\n    </tr>\n    <tr>\n      <th>18</th>\n      <td>e</td>\n    </tr>\n    <tr>\n      <th>19</th>\n      <td>k</td>\n    </tr>\n    <tr>\n      <th>20</th>\n      <td>k</td>\n    </tr>\n    <tr>\n      <th>21</th>\n      <td>k</td>\n    </tr>\n  </tbody>\n</table>\n</div>"
     },
     "metadata": {},
     "execution_count": 23
    }
   ],
   "source": [
    "sonuc3=pd.DataFrame(data=cinsiyet,index=range(22),columns=[\"cinsiyet\"])\n",
    "sonuc3"
   ]
  },
  {
   "cell_type": "code",
   "execution_count": 27,
   "metadata": {},
   "outputs": [
    {
     "output_type": "execute_result",
     "data": {
      "text/plain": [
       "     fr   tr   us    boy   kilo    yas cinsiyet\n",
       "0   0.0  1.0  0.0  130.0   30.0  10.00        e\n",
       "1   0.0  1.0  0.0  125.0   36.0  11.00        e\n",
       "2   0.0  1.0  0.0  135.0   34.0  10.00        k\n",
       "3   0.0  1.0  0.0  133.0   30.0   9.00        k\n",
       "4   0.0  1.0  0.0  129.0   38.0  12.00        e\n",
       "5   0.0  1.0  0.0  180.0   90.0  30.00        e\n",
       "6   0.0  1.0  0.0  190.0   80.0  25.00        e\n",
       "7   0.0  1.0  0.0  175.0   90.0  35.00        e\n",
       "8   0.0  1.0  0.0  177.0   60.0  22.00        k\n",
       "9   0.0  0.0  1.0  185.0  105.0  33.00        e\n",
       "10  0.0  0.0  1.0  165.0   55.0  27.00        k\n",
       "11  0.0  0.0  1.0  155.0   50.0  44.00        k\n",
       "12  0.0  0.0  1.0  160.0   58.0  28.45        k\n",
       "13  0.0  0.0  1.0  162.0   59.0  41.00        k\n",
       "14  0.0  0.0  1.0  167.0   62.0  55.00        k\n",
       "15  1.0  0.0  0.0  174.0   70.0  47.00        e\n",
       "16  1.0  0.0  0.0  193.0   90.0  28.45        e\n",
       "17  1.0  0.0  0.0  187.0   80.0  27.00        e\n",
       "18  1.0  0.0  0.0  183.0   88.0  28.00        e\n",
       "19  1.0  0.0  0.0  159.0   40.0  29.00        k\n",
       "20  1.0  0.0  0.0  164.0   66.0  32.00        k\n",
       "21  1.0  0.0  0.0  166.0   56.0  42.00        k"
      ],
      "text/html": "<div>\n<style scoped>\n    .dataframe tbody tr th:only-of-type {\n        vertical-align: middle;\n    }\n\n    .dataframe tbody tr th {\n        vertical-align: top;\n    }\n\n    .dataframe thead th {\n        text-align: right;\n    }\n</style>\n<table border=\"1\" class=\"dataframe\">\n  <thead>\n    <tr style=\"text-align: right;\">\n      <th></th>\n      <th>fr</th>\n      <th>tr</th>\n      <th>us</th>\n      <th>boy</th>\n      <th>kilo</th>\n      <th>yas</th>\n      <th>cinsiyet</th>\n    </tr>\n  </thead>\n  <tbody>\n    <tr>\n      <th>0</th>\n      <td>0.0</td>\n      <td>1.0</td>\n      <td>0.0</td>\n      <td>130.0</td>\n      <td>30.0</td>\n      <td>10.00</td>\n      <td>e</td>\n    </tr>\n    <tr>\n      <th>1</th>\n      <td>0.0</td>\n      <td>1.0</td>\n      <td>0.0</td>\n      <td>125.0</td>\n      <td>36.0</td>\n      <td>11.00</td>\n      <td>e</td>\n    </tr>\n    <tr>\n      <th>2</th>\n      <td>0.0</td>\n      <td>1.0</td>\n      <td>0.0</td>\n      <td>135.0</td>\n      <td>34.0</td>\n      <td>10.00</td>\n      <td>k</td>\n    </tr>\n    <tr>\n      <th>3</th>\n      <td>0.0</td>\n      <td>1.0</td>\n      <td>0.0</td>\n      <td>133.0</td>\n      <td>30.0</td>\n      <td>9.00</td>\n      <td>k</td>\n    </tr>\n    <tr>\n      <th>4</th>\n      <td>0.0</td>\n      <td>1.0</td>\n      <td>0.0</td>\n      <td>129.0</td>\n      <td>38.0</td>\n      <td>12.00</td>\n      <td>e</td>\n    </tr>\n    <tr>\n      <th>5</th>\n      <td>0.0</td>\n      <td>1.0</td>\n      <td>0.0</td>\n      <td>180.0</td>\n      <td>90.0</td>\n      <td>30.00</td>\n      <td>e</td>\n    </tr>\n    <tr>\n      <th>6</th>\n      <td>0.0</td>\n      <td>1.0</td>\n      <td>0.0</td>\n      <td>190.0</td>\n      <td>80.0</td>\n      <td>25.00</td>\n      <td>e</td>\n    </tr>\n    <tr>\n      <th>7</th>\n      <td>0.0</td>\n      <td>1.0</td>\n      <td>0.0</td>\n      <td>175.0</td>\n      <td>90.0</td>\n      <td>35.00</td>\n      <td>e</td>\n    </tr>\n    <tr>\n      <th>8</th>\n      <td>0.0</td>\n      <td>1.0</td>\n      <td>0.0</td>\n      <td>177.0</td>\n      <td>60.0</td>\n      <td>22.00</td>\n      <td>k</td>\n    </tr>\n    <tr>\n      <th>9</th>\n      <td>0.0</td>\n      <td>0.0</td>\n      <td>1.0</td>\n      <td>185.0</td>\n      <td>105.0</td>\n      <td>33.00</td>\n      <td>e</td>\n    </tr>\n    <tr>\n      <th>10</th>\n      <td>0.0</td>\n      <td>0.0</td>\n      <td>1.0</td>\n      <td>165.0</td>\n      <td>55.0</td>\n      <td>27.00</td>\n      <td>k</td>\n    </tr>\n    <tr>\n      <th>11</th>\n      <td>0.0</td>\n      <td>0.0</td>\n      <td>1.0</td>\n      <td>155.0</td>\n      <td>50.0</td>\n      <td>44.00</td>\n      <td>k</td>\n    </tr>\n    <tr>\n      <th>12</th>\n      <td>0.0</td>\n      <td>0.0</td>\n      <td>1.0</td>\n      <td>160.0</td>\n      <td>58.0</td>\n      <td>28.45</td>\n      <td>k</td>\n    </tr>\n    <tr>\n      <th>13</th>\n      <td>0.0</td>\n      <td>0.0</td>\n      <td>1.0</td>\n      <td>162.0</td>\n      <td>59.0</td>\n      <td>41.00</td>\n      <td>k</td>\n    </tr>\n    <tr>\n      <th>14</th>\n      <td>0.0</td>\n      <td>0.0</td>\n      <td>1.0</td>\n      <td>167.0</td>\n      <td>62.0</td>\n      <td>55.00</td>\n      <td>k</td>\n    </tr>\n    <tr>\n      <th>15</th>\n      <td>1.0</td>\n      <td>0.0</td>\n      <td>0.0</td>\n      <td>174.0</td>\n      <td>70.0</td>\n      <td>47.00</td>\n      <td>e</td>\n    </tr>\n    <tr>\n      <th>16</th>\n      <td>1.0</td>\n      <td>0.0</td>\n      <td>0.0</td>\n      <td>193.0</td>\n      <td>90.0</td>\n      <td>28.45</td>\n      <td>e</td>\n    </tr>\n    <tr>\n      <th>17</th>\n      <td>1.0</td>\n      <td>0.0</td>\n      <td>0.0</td>\n      <td>187.0</td>\n      <td>80.0</td>\n      <td>27.00</td>\n      <td>e</td>\n    </tr>\n    <tr>\n      <th>18</th>\n      <td>1.0</td>\n      <td>0.0</td>\n      <td>0.0</td>\n      <td>183.0</td>\n      <td>88.0</td>\n      <td>28.00</td>\n      <td>e</td>\n    </tr>\n    <tr>\n      <th>19</th>\n      <td>1.0</td>\n      <td>0.0</td>\n      <td>0.0</td>\n      <td>159.0</td>\n      <td>40.0</td>\n      <td>29.00</td>\n      <td>k</td>\n    </tr>\n    <tr>\n      <th>20</th>\n      <td>1.0</td>\n      <td>0.0</td>\n      <td>0.0</td>\n      <td>164.0</td>\n      <td>66.0</td>\n      <td>32.00</td>\n      <td>k</td>\n    </tr>\n    <tr>\n      <th>21</th>\n      <td>1.0</td>\n      <td>0.0</td>\n      <td>0.0</td>\n      <td>166.0</td>\n      <td>56.0</td>\n      <td>42.00</td>\n      <td>k</td>\n    </tr>\n  </tbody>\n</table>\n</div>"
     },
     "metadata": {},
     "execution_count": 27
    }
   ],
   "source": [
    "pd.concat([sonuc,sonuc2,sonuc3],axis=1)                                    #satırlara göre match ediyor axis=1 olunca."
   ]
  },
  {
   "cell_type": "code",
   "execution_count": null,
   "metadata": {},
   "outputs": [],
   "source": []
  }
 ]
}